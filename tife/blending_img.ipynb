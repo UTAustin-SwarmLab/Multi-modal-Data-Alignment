{
 "cells": [
  {
   "cell_type": "code",
   "execution_count": null,
   "metadata": {},
   "outputs": [
    {
     "ename": "",
     "evalue": "",
     "output_type": "error",
     "traceback": [
      "\u001b[1;31mRunning cells with 'py310' requires the ipykernel package.\n",
      "\u001b[1;31mRun the following command to install 'ipykernel' into the Python environment. \n",
      "\u001b[1;31mCommand: 'conda install -n py310 ipykernel --update-deps --force-reinstall'"
     ]
    }
   ],
   "source": [
    "import hydra\n",
    "import pandas\n",
    "from omegaconf import DictConfig\n",
    "\n",
    "@hydra.main(version_base=None, config_path='config', config_name='noise_config')\n",
    "def load_waterbird(cfg: DictConfig):\n",
    "    # load waterbird images path\n",
    "    train_img_folder = cfg.root_dir + 'train/real/'\n",
    "    train_metadata_csv = pandas.read_csv(cfg.root_dir + 'train_real_metadata.csv')\n",
    "    train_metadata_csv['img_filename_no_path'] = train_metadata_csv['img_filename'].apply(lambda x: x.split('/')[-1])\n",
    "    train_test_img_files = []\n",
    "    for _, row in train_metadata_csv.iterrows():\n",
    "        train_test_img_files.append(train_img_folder + row['img_filename_no_path'])\n",
    "\n",
    "    test_img_folder = cfg.root_dir + 'test/'\n",
    "    test_metadata_csv = pandas.read_csv(cfg.root_dir + 'test_metadata.csv')\n",
    "    test_metadata_csv['img_filename_no_path'] = test_metadata_csv['img_filename'].apply(lambda x: x.split('/')[-1])\n",
    "    for _, row in test_metadata_csv.iterrows():\n",
    "        train_test_img_files.append(test_img_folder + row['img_filename_no_path'])\n",
    "    numtrain_test = len(train_test_img_files)\n",
    "\n",
    "    val_img_folder = cfg.root_dir + 'val/'\n",
    "    val_metadata_csv = pandas.read_csv(cfg.root_dir + 'val_metadata.csv')\n",
    "    val_metadata_csv['img_filename_no_path'] = val_metadata_csv['img_filename'].apply(lambda x: x.split('/')[-1])\n",
    "    val_img_files = []\n",
    "    for _, row in val_metadata_csv.iterrows():   \n",
    "        val_img_files.append(val_img_folder + row['img_filename_no_path'])\n",
    "    numQ = len(val_img_files)\n",
    "\n",
    "    print(\"numtrain_test:\", numtrain_test)\n",
    "    print(\"numQ:\", numQ)\n",
    "    return train_test_img_files, val_img_files"
   ]
  }
 ],
 "metadata": {
  "kernelspec": {
   "display_name": "py310",
   "language": "python",
   "name": "python3"
  },
  "language_info": {
   "name": "python",
   "version": "3.10.4"
  }
 },
 "nbformat": 4,
 "nbformat_minor": 2
}
